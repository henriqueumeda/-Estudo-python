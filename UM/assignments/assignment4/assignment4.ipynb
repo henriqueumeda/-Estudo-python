{
 "cells": [
  {
   "cell_type": "markdown",
   "metadata": {},
   "source": [
    "# Assignment 4\n",
    "## Description\n",
    "In this assignment you must read in a file of metropolitan regions and associated sports teams from [assets/wikipedia_data.html](assets/wikipedia_data.html) and answer some questions about each metropolitan region. Each of these regions may have one or more teams from the \"Big 4\": NFL (football, in [assets/nfl.csv](assets/nfl.csv)), MLB (baseball, in [assets/mlb.csv](assets/mlb.csv)), NBA (basketball, in [assets/nba.csv](assets/nba.csv) or NHL (hockey, in [assets/nhl.csv](assets/nhl.csv)). Please keep in mind that all questions are from the perspective of the metropolitan region, and that this file is the \"source of authority\" for the location of a given sports team. Thus teams which are commonly known by a different area (e.g. \"Oakland Raiders\") need to be mapped into the metropolitan region given (e.g. San Francisco Bay Area). This will require some human data understanding outside of the data you've been given (e.g. you will have to hand-code some names, and might need to google to find out where teams are)!\n",
    "\n",
    "For each sport I would like you to answer the question: **what is the win/loss ratio's correlation with the population of the city it is in?** Win/Loss ratio refers to the number of wins over the number of wins plus the number of losses. Remember that to calculate the correlation with [`pearsonr`](https://docs.scipy.org/doc/scipy/reference/generated/scipy.stats.pearsonr.html), so you are going to send in two ordered lists of values, the populations from the wikipedia_data.html file and the win/loss ratio for a given sport in the same order. Average the win/loss ratios for those cities which have multiple teams of a single sport. Each sport is worth an equal amount in this assignment (20%\\*4=80%) of the grade for this assignment. You should only use data **from year 2018** for your analysis -- this is important!\n",
    "\n",
    "## Notes\n",
    "\n",
    "1. Do not include data about the MLS or CFL in any of the work you are doing, we're only interested in the Big 4 in this assignment.\n",
    "2. I highly suggest that you first tackle the four correlation questions in order, as they are all similar and worth the majority of grades for this assignment. This is by design!\n",
    "3. It's fair game to talk with peers about high level strategy as well as the relationship between metropolitan areas and sports teams. However, do not post code solving aspects of the assignment (including such as dictionaries mapping areas to teams, or regexes which will clean up names).\n",
    "4. There may be more teams than the assert statements test, remember to collapse multiple teams in one city into a single value!"
   ]
  },
  {
   "cell_type": "markdown",
   "metadata": {},
   "source": [
    "## Question 1\n",
    "For this question, calculate the win/loss ratio's correlation with the population of the city it is in for the **NHL** using **2018** data."
   ]
  },
  {
   "cell_type": "code",
   "execution_count": 77,
   "metadata": {},
   "outputs": [],
   "source": [
    "import pandas as pd\n",
    "import numpy as np\n",
    "import scipy.stats as stats\n",
    "import re\n",
    "\n",
    "nhl_df=pd.read_csv(\"assets/nhl.csv\")\n",
    "cities=pd.read_html(\"assets/wikipedia_data.html\")[1]\n",
    "cities=cities.iloc[:-1,[0,3,5,6,7,8]]\n",
    "sport = 'NHL'\n",
    "\n",
    "def nhl_correlation(): \n",
    "    nhl_df=pd.read_csv(\"assets/nhl.csv\")\n",
    "    cities=pd.read_html(\"assets/wikipedia_data.html\")[1]\n",
    "    cities=cities.iloc[:-1,[0,3,5,6,7,8]]\n",
    "    sport = 'NHL'\n",
    "    \n",
    "    nhl_df = nhl_df[nhl_df['year'] == 2018]\n",
    "    nhl_df = nhl_df[nhl_df['team'] != nhl_df['W']]\n",
    "    nhl_df['team'] = nhl_df['team'].str.extract('([\\w. ]*)')\n",
    "    nhl_df[sport] = nhl_df['team'].str.extract(r'([^ ]*$)')\n",
    "    nhl_df = nhl_df.reset_index(drop=True)\n",
    "\n",
    "    cities = cities.rename(columns={'Population (2016 est.)[8]': 'Population'})\n",
    "    cities[sport] = cities[sport].str.extract('([\\w ]*)')\n",
    "    cities[sport] = cities[sport].str.extract(r'([^ ]*$)')\n",
    "    cities = cities[cities[sport] != '']\n",
    "    cities.dropna(inplace=True)\n",
    "    cities = cities.reset_index(drop=True)\n",
    "    cities = cities.sort_values('Metropolitan area')\n",
    "    cities['Population'] = cities['Population'].astype('float64')\n",
    "    population_by_region = list(cities['Population'])\n",
    "\n",
    "\n",
    "    nhl_df = nhl_df.merge(cities[['Metropolitan area', sport]], on=sport, how='left')\n",
    "    nhl_df.loc[[12,14,15], 'Metropolitan area'] = 'New York City'\n",
    "    nhl_df.fillna('Los Angeles', inplace=True)\n",
    "    nhl_df['W'] = nhl_df['W'].astype('float64')\n",
    "    nhl_df['L'] = nhl_df['L'].astype('float64')\n",
    "    nhl_df = nhl_df.groupby('Metropolitan area').agg({'W':np.average, 'L': np.average})\n",
    "    nhl_df['W/L%'] = (nhl_df['W']/(nhl_df['W'] + nhl_df['L'])).astype('float64')\n",
    "    win_loss_by_region = list(nhl_df['W/L%'])\n",
    "\n",
    "    assert len(population_by_region) == len(win_loss_by_region), \"Q1: Your lists must be the same length\"\n",
    "    assert len(population_by_region) == 28, \"Q1: There should be 28 teams being analysed for NHL\"\n",
    "    \n",
    "    return stats.pearsonr(population_by_region, win_loss_by_region)"
   ]
  },
  {
   "cell_type": "code",
   "execution_count": 78,
   "metadata": {},
   "outputs": [
    {
     "data": {
      "text/plain": [
       "(0.012308996455744264, 0.9504308637909502)"
      ]
     },
     "execution_count": 78,
     "metadata": {},
     "output_type": "execute_result"
    }
   ],
   "source": [
    "nhl_correlation()"
   ]
  },
  {
   "cell_type": "markdown",
   "metadata": {},
   "source": [
    "## Question 2\n",
    "For this question, calculate the win/loss ratio's correlation with the population of the city it is in for the **NBA** using **2018** data."
   ]
  },
  {
   "cell_type": "code",
   "execution_count": 310,
   "metadata": {},
   "outputs": [],
   "source": [
    "import pandas as pd\n",
    "import numpy as np\n",
    "import scipy.stats as stats\n",
    "import re\n",
    "\n",
    "nba_df=pd.read_csv(\"assets/nba.csv\")\n",
    "cities=pd.read_html(\"assets/wikipedia_data.html\")[1]\n",
    "cities=cities.iloc[:-1,[0,3,5,6,7,8]]\n",
    "sport = 'NBA'\n",
    "\n",
    "def nba_correlation():\n",
    "    nba_df=pd.read_csv(\"assets/nba.csv\")\n",
    "    cities=pd.read_html(\"assets/wikipedia_data.html\")[1]\n",
    "    cities=cities.iloc[:-1,[0,3,5,6,7,8]]\n",
    "    sport = 'NBA'\n",
    "    \n",
    "    nba_df = nba_df[nba_df['year'] == 2018]\n",
    "    nba_df['team'] = nba_df['team'].str.extract('([\\w. ]*)')\n",
    "    nba_df[sport] = nba_df['team'].str.extract(r'([^ ]*$)')\n",
    "    nba_df = nba_df.reset_index(drop=True)\n",
    "    \n",
    "    cities = cities.rename(columns={'Population (2016 est.)[8]': 'Population'})\n",
    "    cities[sport] = cities[sport].str.extract('([\\w ]*)')\n",
    "    cities[sport] = cities[sport].str.extract(r'([^ ]*$)')\n",
    "    cities = cities[cities[sport] != '']\n",
    "    cities.dropna(inplace=True)\n",
    "    cities = cities.reset_index(drop=True)\n",
    "    cities = cities.sort_values('Metropolitan area')\n",
    "    cities['Population'] = cities['Population'].astype('float64')\n",
    "    population_by_region = list(cities['Population'])\n",
    "    \n",
    "    \n",
    "    nba_df = nba_df.merge(cities[['Metropolitan area', sport]], on=sport, how='left')\n",
    "    nba_df.loc[[10,11], 'Metropolitan area'] = 'New York City'\n",
    "    nba_df.fillna('Los Angeles', inplace=True)\n",
    "    nba_df['W/L%'] = nba_df['W/L%'].astype('float64')\n",
    "    nba_df = nba_df.groupby('Metropolitan area').agg({'W/L%':np.average})\n",
    "    win_loss_by_region = list(nba_df['W/L%'])\n",
    "\n",
    "    assert len(population_by_region) == len(win_loss_by_region), \"Q2: Your lists must be the same length\"\n",
    "    assert len(population_by_region) == 28, \"Q2: There should be 28 teams being analysed for NBA\"\n",
    "\n",
    "    return stats.pearsonr(population_by_region, win_loss_by_region)"
   ]
  },
  {
   "cell_type": "code",
   "execution_count": 311,
   "metadata": {},
   "outputs": [
    {
     "data": {
      "text/plain": [
       "(-0.17636350642182935, 0.36932106185547353)"
      ]
     },
     "execution_count": 311,
     "metadata": {},
     "output_type": "execute_result"
    }
   ],
   "source": [
    "nba_correlation()"
   ]
  },
  {
   "cell_type": "markdown",
   "metadata": {},
   "source": [
    "## Question 3\n",
    "For this question, calculate the win/loss ratio's correlation with the population of the city it is in for the **MLB** using **2018** data."
   ]
  },
  {
   "cell_type": "code",
   "execution_count": 278,
   "metadata": {},
   "outputs": [],
   "source": [
    "import pandas as pd\n",
    "import numpy as np\n",
    "import scipy.stats as stats\n",
    "import re\n",
    "\n",
    "mlb_df=pd.read_csv(\"assets/mlb.csv\")\n",
    "cities=pd.read_html(\"assets/wikipedia_data.html\")[1]\n",
    "cities=cities.iloc[:-1,[0,3,5,6,7,8]]\n",
    "sport = 'MLB'\n",
    "\n",
    "def mlb_correlation(): \n",
    "    mlb_df=pd.read_csv(\"assets/mlb.csv\")\n",
    "    cities=pd.read_html(\"assets/wikipedia_data.html\")[1]\n",
    "    cities=cities.iloc[:-1,[0,3,5,6,7,8]]\n",
    "    sport = 'MLB'\n",
    "    \n",
    "    mlb_df = mlb_df[mlb_df['year'] == 2018]\n",
    "    mlb_df['team'] = mlb_df['team'].str.extract('([\\w. ]*)')\n",
    "    mlb_df[sport] = mlb_df['team'].str.extract('([A-Z]{0,2}[a-z0-9]*\\ Sox$|[A-Z]{0,2}[a-z0-9]*\\ Jays$|[^ ]*$)')\n",
    "    mlb_df = mlb_df.reset_index(drop=True)\n",
    "    \n",
    "    cities = cities.rename(columns={'Population (2016 est.)[8]': 'Population'})\n",
    "    cities[sport] = cities[sport].str.extract('([\\w ]*)')\n",
    "    cities['Population'] = cities['Population'].astype('float64')\n",
    "    population_by_region = list(cities[cities[sport] != ''].sort_values('Metropolitan area')['Population'])\n",
    "    team = cities[sport].str.extract('([A-Z]{0,2}[a-z0-9]*\\ [A-Z]{0,2}[a-z0-9]*|[A-Z]{0,2}[a-z0-9]*)([A-Z]{0,2}[a-z0-9]*\\ [A-Z]{0,2}[a-z0-9]*|[A-Z]{0,2}[a-z0-9]*)([A-Z]{0,2}[a-z0-9]*\\ [A-Z]{0,2}[a-z0-9]*|[A-Z]{0,2}[a-z0-9]*)')\n",
    "    team['Metropolitan area']=cities['Metropolitan area']\n",
    "    team = pd.melt(team, id_vars=['Metropolitan area']).drop(columns=['variable'])\n",
    "    team = team[team['value'] != '']\n",
    "    team = team.reset_index(drop=True)\n",
    "    team = team.sort_values('Metropolitan area')\n",
    "    cities = cities.sort_values('Metropolitan area')\n",
    "    cities = cities.merge(team, on='Metropolitan area', how='left')\n",
    "    cities[sport] = cities['value']\n",
    "    cities = cities.drop(columns=['value'])\n",
    "    cities = cities[cities['MLB'].isna() == False]\n",
    "    \n",
    "    mlb_df = mlb_df.merge(cities[['Metropolitan area', sport]], on=sport, how='left')\n",
    "    mlb_df = mlb_df.groupby('Metropolitan area').agg({'W-L%':np.average})\n",
    "    mlb_df['W-L%'] = mlb_df['W-L%'].astype('float64')\n",
    "    win_loss_by_region = list(mlb_df['W-L%'])\n",
    "\n",
    "    assert len(population_by_region) == len(win_loss_by_region), \"Q3: Your lists must be the same length\"\n",
    "    assert len(population_by_region) == 26, \"Q3: There should be 26 teams being analysed for MLB\"\n",
    "\n",
    "    return stats.pearsonr(population_by_region, win_loss_by_region)"
   ]
  },
  {
   "cell_type": "code",
   "execution_count": 279,
   "metadata": {},
   "outputs": [
    {
     "data": {
      "text/plain": [
       "(0.15003737475409495, 0.46442827201123427)"
      ]
     },
     "execution_count": 279,
     "metadata": {},
     "output_type": "execute_result"
    }
   ],
   "source": [
    "mlb_correlation()"
   ]
  },
  {
   "cell_type": "markdown",
   "metadata": {},
   "source": [
    "## Question 4\n",
    "For this question, calculate the win/loss ratio's correlation with the population of the city it is in for the **NFL** using **2018** data."
   ]
  },
  {
   "cell_type": "code",
   "execution_count": 50,
   "metadata": {},
   "outputs": [],
   "source": [
    "import pandas as pd\n",
    "import numpy as np\n",
    "import scipy.stats as stats\n",
    "import re\n",
    "\n",
    "nfl_df=pd.read_csv(\"assets/nfl.csv\")\n",
    "cities=pd.read_html(\"assets/wikipedia_data.html\")[1]\n",
    "cities=cities.iloc[:-1,[0,3,5,6,7,8]]\n",
    "sport = 'NFL'\n",
    "\n",
    "def nfl_correlation(): \n",
    "    nfl_df=pd.read_csv(\"assets/nfl.csv\")\n",
    "    cities=pd.read_html(\"assets/wikipedia_data.html\")[1]\n",
    "    cities=cities.iloc[:-1,[0,3,5,6,7,8]]\n",
    "    sport = 'NFL'\n",
    "    \n",
    "    nfl_df = nfl_df[nfl_df['year'] == 2018]\n",
    "    nfl_df = nfl_df[nfl_df['team'] != nfl_df['W']]\n",
    "    nfl_df['team'] = nfl_df['team'].str.extract('([\\w. ]*)')\n",
    "    nfl_df[sport] = nfl_df['team'].str.extract('([A-Z]{0,2}[a-z0-9]*\\ Sox$|[A-Z]{0,2}[a-z0-9]*\\ Jays$|[^ ]*$)')\n",
    "    nfl_df = nfl_df.reset_index(drop=True)\n",
    "    \n",
    "    cities = cities.rename(columns={'Population (2016 est.)[8]': 'Population'})\n",
    "    cities[sport] = cities[sport].str.extract('([\\w ]*)')\n",
    "    cities['Population'] = cities['Population'].astype('float64')\n",
    "    population_by_region = list(cities[cities[sport] != ''].sort_values('Metropolitan area')['Population'])\n",
    "    team = cities[sport].str.extract('([A-Z]{0,2}[a-z0-9]*\\ [A-Z]{0,2}[a-z0-9]*|[A-Z]{0,2}[a-z0-9]*)([A-Z]{0,2}[a-z0-9]*\\ [A-Z]{0,2}[a-z0-9]*|[A-Z]{0,2}[a-z0-9]*)([A-Z]{0,2}[a-z0-9]*\\ [A-Z]{0,2}[a-z0-9]*|[A-Z]{0,2}[a-z0-9]*)')\n",
    "    team['Metropolitan area']=cities['Metropolitan area']\n",
    "    team = pd.melt(team, id_vars=['Metropolitan area']).drop(columns=['variable'])\n",
    "    team = team[team['value'] != '']\n",
    "    team = team.reset_index(drop=True)\n",
    "    team = team.sort_values('Metropolitan area')\n",
    "    cities = cities.sort_values('Metropolitan area')\n",
    "    cities = cities.merge(team, on='Metropolitan area', how='left')\n",
    "    cities[sport] = cities['value']\n",
    "    cities = cities.drop(columns=['value'])\n",
    "    cities = cities[cities[sport].isna() == False]\n",
    "    \n",
    "    nfl_df = nfl_df.merge(cities[['Metropolitan area', sport]], on=sport, how='left')\n",
    "    nfl_df['W-L%'] = nfl_df['W-L%'].astype('float64')\n",
    "    nfl_df = nfl_df.groupby('Metropolitan area').agg({'W-L%':np.average})\n",
    "    win_loss_by_region = list(nfl_df['W-L%'])\n",
    "\n",
    "    assert len(population_by_region) == len(win_loss_by_region), \"Q4: Your lists must be the same length\"\n",
    "    assert len(population_by_region) == 29, \"Q4: There should be 29 teams being analysed for NFL\"\n",
    "\n",
    "    return stats.pearsonr(population_by_region, win_loss_by_region)"
   ]
  },
  {
   "cell_type": "code",
   "execution_count": 51,
   "metadata": {},
   "outputs": [
    {
     "data": {
      "text/plain": [
       "(0.004282141436393022, 0.9824114740736553)"
      ]
     },
     "execution_count": 51,
     "metadata": {},
     "output_type": "execute_result"
    }
   ],
   "source": [
    "nfl_correlation()"
   ]
  },
  {
   "cell_type": "markdown",
   "metadata": {},
   "source": [
    "## Question 5\n",
    "In this question I would like you to explore the hypothesis that **given that an area has two sports teams in different sports, those teams will perform the same within their respective sports**. How I would like to see this explored is with a series of paired t-tests (so use [`ttest_rel`](https://docs.scipy.org/doc/scipy/reference/generated/scipy.stats.ttest_rel.html)) between all pairs of sports. Are there any sports where we can reject the null hypothesis? Again, average values where a sport has multiple teams in one region. Remember, you will only be including, for each sport, cities which have teams engaged in that sport, drop others as appropriate. This question is worth 20% of the grade for this assignment."
   ]
  },
  {
   "cell_type": "code",
   "execution_count": 72,
   "metadata": {},
   "outputs": [],
   "source": [
    "import pandas as pd\n",
    "import numpy as np\n",
    "import scipy.stats as stats\n",
    "import re\n",
    "\n",
    "mlb_df=pd.read_csv(\"assets/mlb.csv\")\n",
    "nhl_df=pd.read_csv(\"assets/nhl.csv\")\n",
    "nba_df=pd.read_csv(\"assets/nba.csv\")\n",
    "nfl_df=pd.read_csv(\"assets/nfl.csv\")\n",
    "cities=pd.read_html(\"assets/wikipedia_data.html\")[1]\n",
    "cities=cities.iloc[:-1,[0,3,5,6,7,8]]\n",
    "sports = ['NFL', 'NBA', 'NHL', 'MLB']\n",
    "\n",
    "def sports_team_performance():\n",
    "    # YOUR CODE HERE\n",
    "    raise NotImplementedError()\n",
    "    \n",
    "    # Note: p_values is a full dataframe, so df.loc[\"NFL\",\"NBA\"] should be the same as df.loc[\"NBA\",\"NFL\"] and\n",
    "    # df.loc[\"NFL\",\"NFL\"] should return np.nan\n",
    "    sports = ['NFL', 'NBA', 'NHL', 'MLB']\n",
    "    p_values = pd.DataFrame({k:np.nan for k in sports}, index=sports)\n",
    "    \n",
    "    assert abs(p_values.loc[\"NBA\", \"NHL\"] - 0.02) <= 1e-2, \"The NBA-NHL p-value should be around 0.02\"\n",
    "    assert abs(p_values.loc[\"MLB\", \"NFL\"] - 0.80) <= 1e-2, \"The MLB-NFL p-value should be around 0.80\"\n",
    "    return p_values"
   ]
  },
  {
   "cell_type": "code",
   "execution_count": 66,
   "metadata": {},
   "outputs": [],
   "source": [
    "cities = cities.rename(columns={'Population (2016 est.)[8]': 'Population'})\n",
    "\n",
    "    team = cities[sport].str.extract('([A-Z]{0,2}[a-z0-9]*\\ [A-Z]{0,2}[a-z0-9]*|[A-Z]{0,2}[a-z0-9]*)([A-Z]{0,2}[a-z0-9]*\\ [A-Z]{0,2}[a-z0-9]*|[A-Z]{0,2}[a-z0-9]*)([A-Z]{0,2}[a-z0-9]*\\ [A-Z]{0,2}[a-z0-9]*|[A-Z]{0,2}[a-z0-9]*)')\n",
    "    team['Metropolitan area']=cities['Metropolitan area']\n",
    "    team = pd.melt(team, id_vars=['Metropolitan area']).drop(columns=['variable'])\n",
    "    team = team[team['value'] != '']\n",
    "    team = team.reset_index(drop=True)\n",
    "    team = team.sort_values('Metropolitan area')\n",
    "    cities = cities.sort_values('Metropolitan area')\n",
    "    cities = cities.merge(team, on='Metropolitan area', how='left')\n",
    "    cities[sport] = cities['value']\n",
    "    cities = cities.drop(columns=['value'])\n",
    "    cities = cities[cities[sport].isna() == False]\n",
    "\n",
    "cities.drop_duplicates(subset=None, keep='first', inplace=True)"
   ]
  },
  {
   "cell_type": "code",
   "execution_count": 135,
   "metadata": {},
   "outputs": [],
   "source": [
    "def nhl_win_loss(): \n",
    "    nhl_df=pd.read_csv(\"assets/nhl.csv\")\n",
    "    cities=pd.read_html(\"assets/wikipedia_data.html\")[1]\n",
    "    cities=cities.iloc[:-1,[0,3,5,6,7,8]]\n",
    "    sport = 'NHL'\n",
    "    \n",
    "    nhl_df = nhl_df[nhl_df['year'] == 2018]\n",
    "    nhl_df = nhl_df[nhl_df['team'] != nhl_df['W']]\n",
    "    nhl_df['team'] = nhl_df['team'].str.extract('([\\w. ]*)')\n",
    "    nhl_df[sport] = nhl_df['team'].str.extract(r'([^ ]*$)')\n",
    "    nhl_df = nhl_df.reset_index(drop=True)\n",
    "\n",
    "    cities[sport] = cities[sport].str.extract('([\\w ]*)')\n",
    "    cities[sport] = cities[sport].str.extract(r'([^ ]*$)')\n",
    "    cities = cities[cities[sport] != '']\n",
    "    cities.dropna(inplace=True)\n",
    "    cities = cities.reset_index(drop=True)\n",
    "    cities = cities.sort_values('Metropolitan area')\n",
    "\n",
    "\n",
    "    nhl_df = nhl_df.merge(cities[['Metropolitan area', sport]], on=sport, how='left')\n",
    "    nhl_df.loc[[12,14,15], 'Metropolitan area'] = 'New York City'\n",
    "    nhl_df.fillna('Los Angeles', inplace=True)\n",
    "    nhl_df['W'] = nhl_df['W'].astype('float64')\n",
    "    nhl_df['L'] = nhl_df['L'].astype('float64')\n",
    "    nhl_df = nhl_df.groupby('Metropolitan area').agg({'W':np.average, 'L': np.average})\n",
    "    nhl_df['W/L%'] = (nhl_df['W']/(nhl_df['W'] + nhl_df['L'])).astype('float64')\n",
    "    nhl_df = nhl_df.reset_index().drop(columns=['W', 'L']).rename(columns={'W/L%':'NHL'})\n",
    "    \n",
    "    return nhl_df\n",
    "\n",
    "df_nhl = nhl_win_loss()"
   ]
  },
  {
   "cell_type": "code",
   "execution_count": 136,
   "metadata": {},
   "outputs": [],
   "source": [
    "def nba_win_loss():\n",
    "    nba_df=pd.read_csv(\"assets/nba.csv\")\n",
    "    cities=pd.read_html(\"assets/wikipedia_data.html\")[1]\n",
    "    cities=cities.iloc[:-1,[0,3,5,6,7,8]]\n",
    "    sport = 'NBA'\n",
    "    \n",
    "    nba_df = nba_df[nba_df['year'] == 2018]\n",
    "    nba_df['team'] = nba_df['team'].str.extract('([\\w. ]*)')\n",
    "    nba_df[sport] = nba_df['team'].str.extract(r'([^ ]*$)')\n",
    "    nba_df = nba_df.reset_index(drop=True)\n",
    "    \n",
    "    cities[sport] = cities[sport].str.extract('([\\w ]*)')\n",
    "    cities[sport] = cities[sport].str.extract(r'([^ ]*$)')\n",
    "    cities = cities[cities[sport] != '']\n",
    "    cities.dropna(inplace=True)\n",
    "    cities = cities.reset_index(drop=True)\n",
    "    cities = cities.sort_values('Metropolitan area')    \n",
    "    \n",
    "    nba_df = nba_df.merge(cities[['Metropolitan area', sport]], on=sport, how='left')\n",
    "    nba_df.loc[[10,11], 'Metropolitan area'] = 'New York City'\n",
    "    nba_df.fillna('Los Angeles', inplace=True)\n",
    "    nba_df['W/L%'] = nba_df['W/L%'].astype('float64')\n",
    "    nba_df = nba_df.groupby('Metropolitan area').agg({'W/L%':np.average}).reset_index().rename(columns={'W/L%':'NBA'})\n",
    "\n",
    "    return nba_df\n",
    "\n",
    "df_nba = nba_win_loss()"
   ]
  },
  {
   "cell_type": "code",
   "execution_count": 137,
   "metadata": {},
   "outputs": [],
   "source": [
    "def mlb_win_loss(): \n",
    "    mlb_df=pd.read_csv(\"assets/mlb.csv\")\n",
    "    cities=pd.read_html(\"assets/wikipedia_data.html\")[1]\n",
    "    cities=cities.iloc[:-1,[0,3,5,6,7,8]]\n",
    "    sport = 'MLB'\n",
    "    \n",
    "    mlb_df = mlb_df[mlb_df['year'] == 2018]\n",
    "    mlb_df['team'] = mlb_df['team'].str.extract('([\\w. ]*)')\n",
    "    mlb_df[sport] = mlb_df['team'].str.extract('([A-Z]{0,2}[a-z0-9]*\\ Sox$|[A-Z]{0,2}[a-z0-9]*\\ Jays$|[^ ]*$)')\n",
    "    mlb_df = mlb_df.reset_index(drop=True)\n",
    "    \n",
    "    cities = cities.rename(columns={'Population (2016 est.)[8]': 'Population'})\n",
    "    cities[sport] = cities[sport].str.extract('([\\w ]*)')\n",
    "    team = cities[sport].str.extract('([A-Z]{0,2}[a-z0-9]*\\ [A-Z]{0,2}[a-z0-9]*|[A-Z]{0,2}[a-z0-9]*)([A-Z]{0,2}[a-z0-9]*\\ [A-Z]{0,2}[a-z0-9]*|[A-Z]{0,2}[a-z0-9]*)([A-Z]{0,2}[a-z0-9]*\\ [A-Z]{0,2}[a-z0-9]*|[A-Z]{0,2}[a-z0-9]*)')\n",
    "    team['Metropolitan area']=cities['Metropolitan area']\n",
    "    team = pd.melt(team, id_vars=['Metropolitan area']).drop(columns=['variable'])\n",
    "    team = team[team['value'] != '']\n",
    "    team = team.reset_index(drop=True)\n",
    "    team = team.sort_values('Metropolitan area')\n",
    "    cities = cities.sort_values('Metropolitan area')\n",
    "    cities = cities.merge(team, on='Metropolitan area', how='left')\n",
    "    cities[sport] = cities['value']\n",
    "    cities = cities.drop(columns=['value'])\n",
    "    cities = cities[cities['MLB'].isna() == False]\n",
    "    \n",
    "    mlb_df = mlb_df.merge(cities[['Metropolitan area', sport]], on=sport, how='left')\n",
    "    mlb_df['W-L%'] = mlb_df['W-L%'].astype('float64')\n",
    "    mlb_df = mlb_df.groupby('Metropolitan area').agg({'W-L%':np.average}).reset_index().rename(columns={'W-L%': 'MLB'})\n",
    "    return mlb_df\n",
    "\n",
    "df_mlb = mlb_win_loss()"
   ]
  },
  {
   "cell_type": "code",
   "execution_count": 138,
   "metadata": {},
   "outputs": [],
   "source": [
    "def nfl_win_loss(): \n",
    "    nfl_df=pd.read_csv(\"assets/nfl.csv\")\n",
    "    cities=pd.read_html(\"assets/wikipedia_data.html\")[1]\n",
    "    cities=cities.iloc[:-1,[0,3,5,6,7,8]]\n",
    "    sport = 'NFL'\n",
    "    \n",
    "    nfl_df = nfl_df[nfl_df['year'] == 2018]\n",
    "    nfl_df = nfl_df[nfl_df['team'] != nfl_df['W']]\n",
    "    nfl_df['team'] = nfl_df['team'].str.extract('([\\w. ]*)')\n",
    "    nfl_df[sport] = nfl_df['team'].str.extract('([A-Z]{0,2}[a-z0-9]*\\ Sox$|[A-Z]{0,2}[a-z0-9]*\\ Jays$|[^ ]*$)')\n",
    "    nfl_df = nfl_df.reset_index(drop=True)\n",
    "    \n",
    "    cities = cities.rename(columns={'Population (2016 est.)[8]': 'Population'})\n",
    "    cities[sport] = cities[sport].str.extract('([\\w ]*)')\n",
    "    team = cities[sport].str.extract('([A-Z]{0,2}[a-z0-9]*\\ [A-Z]{0,2}[a-z0-9]*|[A-Z]{0,2}[a-z0-9]*)([A-Z]{0,2}[a-z0-9]*\\ [A-Z]{0,2}[a-z0-9]*|[A-Z]{0,2}[a-z0-9]*)([A-Z]{0,2}[a-z0-9]*\\ [A-Z]{0,2}[a-z0-9]*|[A-Z]{0,2}[a-z0-9]*)')\n",
    "    team['Metropolitan area']=cities['Metropolitan area']\n",
    "    team = pd.melt(team, id_vars=['Metropolitan area']).drop(columns=['variable'])\n",
    "    team = team[team['value'] != '']\n",
    "    team = team.reset_index(drop=True)\n",
    "    team = team.sort_values('Metropolitan area')\n",
    "    cities = cities.sort_values('Metropolitan area')\n",
    "    cities = cities.merge(team, on='Metropolitan area', how='left')\n",
    "    cities[sport] = cities['value']\n",
    "    cities = cities.drop(columns=['value'])\n",
    "    cities = cities[cities[sport].isna() == False]\n",
    "    \n",
    "    nfl_df = nfl_df.merge(cities[['Metropolitan area', sport]], on=sport, how='left')\n",
    "    nfl_df['W-L%'] = nfl_df['W-L%'].astype('float64')\n",
    "    nfl_df = nfl_df.groupby('Metropolitan area').agg({'W-L%':np.average}).reset_index().rename(columns={'W-L%':'NFL'})\n",
    "\n",
    "    return nfl_df\n",
    "\n",
    "df_nfl = nfl_win_loss()"
   ]
  },
  {
   "cell_type": "code",
   "execution_count": 139,
   "metadata": {},
   "outputs": [],
   "source": [
    "import functools\n",
    "\n",
    "dfs = [df_nhl, df_nba, df_mlb, df_nfl]\n",
    "\n",
    "df_final = functools.reduce(lambda left,right: pd.merge(left,right,on='Metropolitan area', how='outer'), dfs)"
   ]
  },
  {
   "cell_type": "code",
   "execution_count": 141,
   "metadata": {},
   "outputs": [],
   "source": [
    "df = df_final.dropna(thresh=3)"
   ]
  },
  {
   "cell_type": "code",
   "execution_count": 156,
   "metadata": {},
   "outputs": [
    {
     "data": {
      "text/html": [
       "<div>\n",
       "<style scoped>\n",
       "    .dataframe tbody tr th:only-of-type {\n",
       "        vertical-align: middle;\n",
       "    }\n",
       "\n",
       "    .dataframe tbody tr th {\n",
       "        vertical-align: top;\n",
       "    }\n",
       "\n",
       "    .dataframe thead th {\n",
       "        text-align: right;\n",
       "    }\n",
       "</style>\n",
       "<table border=\"1\" class=\"dataframe\">\n",
       "  <thead>\n",
       "    <tr style=\"text-align: right;\">\n",
       "      <th></th>\n",
       "      <th>Metropolitan area</th>\n",
       "      <th>W/L% NHL</th>\n",
       "      <th>W/L% NBA</th>\n",
       "    </tr>\n",
       "  </thead>\n",
       "  <tbody>\n",
       "    <tr>\n",
       "      <th>0</th>\n",
       "      <td>Boston</td>\n",
       "      <td>0.714286</td>\n",
       "      <td>0.6710</td>\n",
       "    </tr>\n",
       "    <tr>\n",
       "      <th>3</th>\n",
       "      <td>Chicago</td>\n",
       "      <td>0.458333</td>\n",
       "      <td>0.3290</td>\n",
       "    </tr>\n",
       "    <tr>\n",
       "      <th>5</th>\n",
       "      <td>Dallas–Fort Worth</td>\n",
       "      <td>0.567568</td>\n",
       "      <td>0.2930</td>\n",
       "    </tr>\n",
       "    <tr>\n",
       "      <th>6</th>\n",
       "      <td>Denver</td>\n",
       "      <td>0.589041</td>\n",
       "      <td>0.5610</td>\n",
       "    </tr>\n",
       "    <tr>\n",
       "      <th>7</th>\n",
       "      <td>Detroit</td>\n",
       "      <td>0.434783</td>\n",
       "      <td>0.4760</td>\n",
       "    </tr>\n",
       "    <tr>\n",
       "      <th>10</th>\n",
       "      <td>Los Angeles</td>\n",
       "      <td>0.622378</td>\n",
       "      <td>0.4695</td>\n",
       "    </tr>\n",
       "    <tr>\n",
       "      <th>11</th>\n",
       "      <td>Miami–Fort Lauderdale</td>\n",
       "      <td>0.594595</td>\n",
       "      <td>0.5370</td>\n",
       "    </tr>\n",
       "    <tr>\n",
       "      <th>12</th>\n",
       "      <td>Minneapolis–Saint Paul</td>\n",
       "      <td>0.633803</td>\n",
       "      <td>0.5730</td>\n",
       "    </tr>\n",
       "    <tr>\n",
       "      <th>15</th>\n",
       "      <td>New York City</td>\n",
       "      <td>0.518349</td>\n",
       "      <td>0.3475</td>\n",
       "    </tr>\n",
       "    <tr>\n",
       "      <th>17</th>\n",
       "      <td>Philadelphia</td>\n",
       "      <td>0.617647</td>\n",
       "      <td>0.6340</td>\n",
       "    </tr>\n",
       "    <tr>\n",
       "      <th>18</th>\n",
       "      <td>Phoenix</td>\n",
       "      <td>0.414286</td>\n",
       "      <td>0.2560</td>\n",
       "    </tr>\n",
       "    <tr>\n",
       "      <th>21</th>\n",
       "      <td>San Francisco Bay Area</td>\n",
       "      <td>0.625000</td>\n",
       "      <td>0.7070</td>\n",
       "    </tr>\n",
       "    <tr>\n",
       "      <th>24</th>\n",
       "      <td>Toronto</td>\n",
       "      <td>0.653333</td>\n",
       "      <td>0.7200</td>\n",
       "    </tr>\n",
       "    <tr>\n",
       "      <th>26</th>\n",
       "      <td>Washington, D.C.</td>\n",
       "      <td>0.653333</td>\n",
       "      <td>0.5240</td>\n",
       "    </tr>\n",
       "  </tbody>\n",
       "</table>\n",
       "</div>"
      ],
      "text/plain": [
       "         Metropolitan area  W/L% NHL  W/L% NBA\n",
       "0                   Boston  0.714286    0.6710\n",
       "3                  Chicago  0.458333    0.3290\n",
       "5        Dallas–Fort Worth  0.567568    0.2930\n",
       "6                   Denver  0.589041    0.5610\n",
       "7                  Detroit  0.434783    0.4760\n",
       "10             Los Angeles  0.622378    0.4695\n",
       "11   Miami–Fort Lauderdale  0.594595    0.5370\n",
       "12  Minneapolis–Saint Paul  0.633803    0.5730\n",
       "15           New York City  0.518349    0.3475\n",
       "17            Philadelphia  0.617647    0.6340\n",
       "18                 Phoenix  0.414286    0.2560\n",
       "21  San Francisco Bay Area  0.625000    0.7070\n",
       "24                 Toronto  0.653333    0.7200\n",
       "26        Washington, D.C.  0.653333    0.5240"
      ]
     },
     "execution_count": 156,
     "metadata": {},
     "output_type": "execute_result"
    }
   ],
   "source": [
    "df2 = df.drop(['W/L% MLB', 'W/L% NFL'], axis=1).dropna()\n",
    "df2"
   ]
  },
  {
   "cell_type": "code",
   "execution_count": 159,
   "metadata": {},
   "outputs": [
    {
     "data": {
      "text/plain": [
       "Ttest_relResult(statistic=2.5905361064540027, pvalue=0.02240459747249962)"
      ]
     },
     "execution_count": 159,
     "metadata": {},
     "output_type": "execute_result"
    }
   ],
   "source": [
    "stats.ttest_rel(df2['W/L% NHL'], df2['W/L% NBA'])"
   ]
  }
 ],
 "metadata": {
  "kernelspec": {
   "display_name": "Python 3",
   "language": "python",
   "name": "python3"
  },
  "language_info": {
   "codemirror_mode": {
    "name": "ipython",
    "version": 3
   },
   "file_extension": ".py",
   "mimetype": "text/x-python",
   "name": "python",
   "nbconvert_exporter": "python",
   "pygments_lexer": "ipython3",
   "version": "3.8.5"
  }
 },
 "nbformat": 4,
 "nbformat_minor": 4
}

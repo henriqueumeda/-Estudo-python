{
 "cells": [
  {
   "cell_type": "markdown",
   "metadata": {},
   "source": [
    "# Assignment 3\n",
    "All questions are weighted the same in this assignment. This assignment requires more individual learning then the last one did - you are encouraged to check out the [pandas documentation](http://pandas.pydata.org/pandas-docs/stable/) to find functions or methods you might not have used yet, or ask questions on [Stack Overflow](http://stackoverflow.com/) and tag them as pandas and python related. All questions are worth the same number of points except question 1 which is worth 17% of the assignment grade.\n",
    "\n",
    "**Note**: Questions 3-13 rely on your question 1 answer."
   ]
  },
  {
   "cell_type": "code",
   "execution_count": 3,
   "metadata": {},
   "outputs": [],
   "source": [
    "import pandas as pd\n",
    "import numpy as np\n",
    "\n",
    "# Filter all warnings. If you would like to see the warnings, please comment the two lines below.\n",
    "import warnings\n",
    "warnings.filterwarnings('ignore')"
   ]
  },
  {
   "cell_type": "markdown",
   "metadata": {},
   "source": [
    "### Question 1\n",
    "Load the energy data from the file `assets/Energy Indicators.xls`, which is a list of indicators of [energy supply and renewable electricity production](assets/Energy%20Indicators.xls) from the [United Nations](http://unstats.un.org/unsd/environment/excel_file_tables/2013/Energy%20Indicators.xls) for the year 2013, and should be put into a DataFrame with the variable name of **Energy**.\n",
    "\n",
    "Keep in mind that this is an Excel file, and not a comma separated values file. Also, make sure to exclude the footer and header information from the datafile. The first two columns are unneccessary, so you should get rid of them, and you should change the column labels so that the columns are:\n",
    "\n",
    "`['Country', 'Energy Supply', 'Energy Supply per Capita', '% Renewable]`\n",
    "\n",
    "Convert `Energy Supply` to gigajoules (**Note: there are 1,000,000 gigajoules in a petajoule**). For all countries which have missing data (e.g. data with \"...\") make sure this is reflected as `np.NaN` values.\n",
    "\n",
    "Rename the following list of countries (for use in later questions):\n",
    "\n",
    "```\"Republic of Korea\": \"South Korea\",\n",
    "\"United States of America\": \"United States\",\n",
    "\"United Kingdom of Great Britain and Northern Ireland\": \"United Kingdom\",\n",
    "\"China, Hong Kong Special Administrative Region\": \"Hong Kong\"```\n",
    "\n",
    "There are also several countries with numbers and/or parenthesis in their name. Be sure to remove these, e.g. `'Bolivia (Plurinational State of)'` should be `'Bolivia'`.  `'Switzerland17'` should be `'Switzerland'`.\n",
    "\n",
    "Next, load the GDP data from the file `assets/world_bank.csv`, which is a csv containing countries' GDP from 1960 to 2015 from [World Bank](http://data.worldbank.org/indicator/NY.GDP.MKTP.CD). Call this DataFrame **GDP**. \n",
    "\n",
    "Make sure to skip the header, and rename the following list of countries:\n",
    "\n",
    "```\"Korea, Rep.\": \"South Korea\", \n",
    "\"Iran, Islamic Rep.\": \"Iran\",\n",
    "\"Hong Kong SAR, China\": \"Hong Kong\"```\n",
    "\n",
    "Finally, load the [Sciamgo Journal and Country Rank data for Energy Engineering and Power Technology](http://www.scimagojr.com/countryrank.php?category=2102) from the file `assets/scimagojr-3.xlsx`, which ranks countries based on their journal contributions in the aforementioned area. Call this DataFrame **ScimEn**.\n",
    "\n",
    "Join the three datasets: GDP, Energy, and ScimEn into a new dataset (using the intersection of country names). Use only the last 10 years (2006-2015) of GDP data and only the top 15 countries by Scimagojr 'Rank' (Rank 1 through 15). \n",
    "\n",
    "The index of this DataFrame should be the name of the country, and the columns should be ['Rank', 'Documents', 'Citable documents', 'Citations', 'Self-citations',\n",
    "       'Citations per document', 'H index', 'Energy Supply',\n",
    "       'Energy Supply per Capita', '% Renewable', '2006', '2007', '2008',\n",
    "       '2009', '2010', '2011', '2012', '2013', '2014', '2015'].\n",
    "\n",
    "*This function should return a DataFrame with 20 columns and 15 entries, and the rows of the DataFrame should be sorted by \"Rank\".*"
   ]
  },
  {
   "cell_type": "code",
   "execution_count": 4,
   "metadata": {},
   "outputs": [],
   "source": [
    "def answer_one():\n",
    "    # Read the excel Energy file\n",
    "    Energy = pd.read_excel(io='assets/Energy Indicators.xls', sheet_name='Energy', header=16, skipfooter=38)\n",
    "    \n",
    "    #Dropped the useless columns and rows\n",
    "    Energy.drop(['Unnamed: 0', 'Unnamed: 1'], axis=1, inplace=True)\n",
    "    Energy.drop(0, axis=0, inplace=True)\n",
    "    \n",
    "    # Renamed the columns\n",
    "    Energy.rename(columns={'Unnamed: 2': 'Country', 'Renewable Electricity Production': '% Renewable'}, inplace=True)\n",
    "    \n",
    "    # Replaced the ... with NaN and converted the Energy Supply to Gigajoules\n",
    "    Energy.loc[Energy['Energy Supply'] == '...', ['Energy Supply', 'Energy Supply per capita']] = np.nan\n",
    "    Energy['Energy Supply'] = Energy['Energy Supply'].apply(lambda x: x*1000000)\n",
    "    \n",
    "    # Took out the numbers from the Country column\n",
    "    pattern = '([A-Za-z, ]*)'\n",
    "    Energy['Country'] = Energy['Country'].str.extract(pattern)\n",
    "    Energy['Country'] = Energy['Country'].str.strip()\n",
    "    \n",
    "    # Change the names of the countries\n",
    "    Energy['Country'] = Energy['Country'].replace(['Republic of Korea', 'United States of America', \n",
    "                                                   'United Kingdom of Great Britain and Northern Ireland', \n",
    "                                                   'China, Hong Kong Special Administrative Region'], \n",
    "                                                  ['South Korea', 'United States', 'United Kingdom', 'Hong Kong'])\n",
    "    \n",
    "    \n",
    "    # Read the csv World Bank file\n",
    "    GDP = pd.read_csv('assets/world_bank.csv', header=2)\n",
    "    \n",
    "    # Renamed countries\n",
    "    GDP['Country Name'] = GDP['Country Name'].replace(['Korea, Rep.', 'Iran, Islamic Rep.', 'Hong Kong SAR, China'],\n",
    "                                                     ['South Korea', 'Iran', 'Hong Kong'])\n",
    "    \n",
    "    # Renamed the column Contry Name\n",
    "    GDP.rename(columns={'Country Name': 'Country'}, inplace=True)\n",
    "    \n",
    "    \n",
    "    # Read the excel Scimago file\n",
    "    ScimEn = pd.read_excel(io='assets/scimagojr-3.xlsx')\n",
    "    \n",
    "    # Dropped useless columns\n",
    "    ScimEn.drop('Region', axis=1, inplace=True)\n",
    "    \n",
    "    # Merge the three datasets\n",
    "    df = ScimEn.merge(Energy, on='Country').merge(GDP, on='Country')\n",
    "    \n",
    "    # Get only the top 15 ranked Countries\n",
    "    df = df[df['Rank'] <= 15]\n",
    "    \n",
    "    # Filter columns to keep\n",
    "    colums_to_keep = ['Country', 'Rank', 'Documents', 'Citable documents', 'Citations', 'Self-citations', 'Citations per document', \n",
    "                       'H index', 'Energy Supply', 'Energy Supply per capita', '% Renewable', '2006', '2007', '2008', \n",
    "                       '2009', '2010', '2011', '2012', '2013', '2014', '2015']\n",
    "    df = df[colums_to_keep]\n",
    "    \n",
    "    # Set Country as an index\n",
    "    df = df.set_index('Country')\n",
    "    \n",
    "    # Sort dataset\n",
    "    df = df.sort_values(by=['Rank'])\n",
    "    return df"
   ]
  },
  {
   "cell_type": "code",
   "execution_count": 5,
   "metadata": {},
   "outputs": [
    {
     "data": {
      "text/html": [
       "<div>\n",
       "<style scoped>\n",
       "    .dataframe tbody tr th:only-of-type {\n",
       "        vertical-align: middle;\n",
       "    }\n",
       "\n",
       "    .dataframe tbody tr th {\n",
       "        vertical-align: top;\n",
       "    }\n",
       "\n",
       "    .dataframe thead th {\n",
       "        text-align: right;\n",
       "    }\n",
       "</style>\n",
       "<table border=\"1\" class=\"dataframe\">\n",
       "  <thead>\n",
       "    <tr style=\"text-align: right;\">\n",
       "      <th></th>\n",
       "      <th>Rank</th>\n",
       "      <th>Documents</th>\n",
       "      <th>Citable documents</th>\n",
       "      <th>Citations</th>\n",
       "      <th>Self-citations</th>\n",
       "      <th>Citations per document</th>\n",
       "      <th>H index</th>\n",
       "      <th>Energy Supply</th>\n",
       "      <th>Energy Supply per capita</th>\n",
       "      <th>% Renewable</th>\n",
       "      <th>2006</th>\n",
       "      <th>2007</th>\n",
       "      <th>2008</th>\n",
       "      <th>2009</th>\n",
       "      <th>2010</th>\n",
       "      <th>2011</th>\n",
       "      <th>2012</th>\n",
       "      <th>2013</th>\n",
       "      <th>2014</th>\n",
       "      <th>2015</th>\n",
       "    </tr>\n",
       "    <tr>\n",
       "      <th>Country</th>\n",
       "      <th></th>\n",
       "      <th></th>\n",
       "      <th></th>\n",
       "      <th></th>\n",
       "      <th></th>\n",
       "      <th></th>\n",
       "      <th></th>\n",
       "      <th></th>\n",
       "      <th></th>\n",
       "      <th></th>\n",
       "      <th></th>\n",
       "      <th></th>\n",
       "      <th></th>\n",
       "      <th></th>\n",
       "      <th></th>\n",
       "      <th></th>\n",
       "      <th></th>\n",
       "      <th></th>\n",
       "      <th></th>\n",
       "      <th></th>\n",
       "    </tr>\n",
       "  </thead>\n",
       "  <tbody>\n",
       "    <tr>\n",
       "      <th>China</th>\n",
       "      <td>1</td>\n",
       "      <td>273437</td>\n",
       "      <td>272374</td>\n",
       "      <td>2336764</td>\n",
       "      <td>1615239</td>\n",
       "      <td>8.55</td>\n",
       "      <td>245</td>\n",
       "      <td>1.271910e+11</td>\n",
       "      <td>93</td>\n",
       "      <td>19.7549</td>\n",
       "      <td>2.752132e+12</td>\n",
       "      <td>3.550343e+12</td>\n",
       "      <td>4.594307e+12</td>\n",
       "      <td>5.101703e+12</td>\n",
       "      <td>6.087164e+12</td>\n",
       "      <td>7.551500e+12</td>\n",
       "      <td>8.532230e+12</td>\n",
       "      <td>9.570406e+12</td>\n",
       "      <td>1.047568e+13</td>\n",
       "      <td>1.106155e+13</td>\n",
       "    </tr>\n",
       "    <tr>\n",
       "      <th>United States</th>\n",
       "      <td>2</td>\n",
       "      <td>175891</td>\n",
       "      <td>172431</td>\n",
       "      <td>2230544</td>\n",
       "      <td>724472</td>\n",
       "      <td>12.68</td>\n",
       "      <td>363</td>\n",
       "      <td>9.083800e+10</td>\n",
       "      <td>286</td>\n",
       "      <td>11.571</td>\n",
       "      <td>1.381461e+13</td>\n",
       "      <td>1.445186e+13</td>\n",
       "      <td>1.471284e+13</td>\n",
       "      <td>1.444893e+13</td>\n",
       "      <td>1.499205e+13</td>\n",
       "      <td>1.554258e+13</td>\n",
       "      <td>1.619701e+13</td>\n",
       "      <td>1.678485e+13</td>\n",
       "      <td>1.752716e+13</td>\n",
       "      <td>1.822470e+13</td>\n",
       "    </tr>\n",
       "    <tr>\n",
       "      <th>India</th>\n",
       "      <td>3</td>\n",
       "      <td>55082</td>\n",
       "      <td>53775</td>\n",
       "      <td>463165</td>\n",
       "      <td>162944</td>\n",
       "      <td>8.41</td>\n",
       "      <td>181</td>\n",
       "      <td>3.319500e+10</td>\n",
       "      <td>26</td>\n",
       "      <td>14.9691</td>\n",
       "      <td>9.402599e+11</td>\n",
       "      <td>1.216735e+12</td>\n",
       "      <td>1.198896e+12</td>\n",
       "      <td>1.341887e+12</td>\n",
       "      <td>1.675615e+12</td>\n",
       "      <td>1.823050e+12</td>\n",
       "      <td>1.827638e+12</td>\n",
       "      <td>1.856722e+12</td>\n",
       "      <td>2.039127e+12</td>\n",
       "      <td>2.103588e+12</td>\n",
       "    </tr>\n",
       "    <tr>\n",
       "      <th>Japan</th>\n",
       "      <td>4</td>\n",
       "      <td>50523</td>\n",
       "      <td>50065</td>\n",
       "      <td>488062</td>\n",
       "      <td>119930</td>\n",
       "      <td>9.66</td>\n",
       "      <td>193</td>\n",
       "      <td>1.898400e+10</td>\n",
       "      <td>149</td>\n",
       "      <td>10.2328</td>\n",
       "      <td>4.530377e+12</td>\n",
       "      <td>4.515265e+12</td>\n",
       "      <td>5.037908e+12</td>\n",
       "      <td>5.231383e+12</td>\n",
       "      <td>5.700098e+12</td>\n",
       "      <td>6.157460e+12</td>\n",
       "      <td>6.203213e+12</td>\n",
       "      <td>5.155717e+12</td>\n",
       "      <td>4.850414e+12</td>\n",
       "      <td>4.389476e+12</td>\n",
       "    </tr>\n",
       "    <tr>\n",
       "      <th>United Kingdom</th>\n",
       "      <td>5</td>\n",
       "      <td>43389</td>\n",
       "      <td>42284</td>\n",
       "      <td>615670</td>\n",
       "      <td>111290</td>\n",
       "      <td>14.19</td>\n",
       "      <td>226</td>\n",
       "      <td>7.920000e+09</td>\n",
       "      <td>124</td>\n",
       "      <td>10.6005</td>\n",
       "      <td>2.713750e+12</td>\n",
       "      <td>3.100882e+12</td>\n",
       "      <td>2.922667e+12</td>\n",
       "      <td>2.410910e+12</td>\n",
       "      <td>2.475244e+12</td>\n",
       "      <td>2.659310e+12</td>\n",
       "      <td>2.704888e+12</td>\n",
       "      <td>2.786023e+12</td>\n",
       "      <td>3.063803e+12</td>\n",
       "      <td>2.928591e+12</td>\n",
       "    </tr>\n",
       "    <tr>\n",
       "      <th>Germany</th>\n",
       "      <td>6</td>\n",
       "      <td>38739</td>\n",
       "      <td>38013</td>\n",
       "      <td>433148</td>\n",
       "      <td>95145</td>\n",
       "      <td>11.18</td>\n",
       "      <td>196</td>\n",
       "      <td>1.326100e+10</td>\n",
       "      <td>165</td>\n",
       "      <td>17.9015</td>\n",
       "      <td>2.992197e+12</td>\n",
       "      <td>3.421229e+12</td>\n",
       "      <td>3.730028e+12</td>\n",
       "      <td>3.397791e+12</td>\n",
       "      <td>3.396354e+12</td>\n",
       "      <td>3.744409e+12</td>\n",
       "      <td>3.527345e+12</td>\n",
       "      <td>3.732743e+12</td>\n",
       "      <td>3.883920e+12</td>\n",
       "      <td>3.356236e+12</td>\n",
       "    </tr>\n",
       "    <tr>\n",
       "      <th>Russian Federation</th>\n",
       "      <td>7</td>\n",
       "      <td>36735</td>\n",
       "      <td>36560</td>\n",
       "      <td>115938</td>\n",
       "      <td>54993</td>\n",
       "      <td>3.16</td>\n",
       "      <td>90</td>\n",
       "      <td>3.070900e+10</td>\n",
       "      <td>214</td>\n",
       "      <td>17.2887</td>\n",
       "      <td>9.899305e+11</td>\n",
       "      <td>1.299706e+12</td>\n",
       "      <td>1.660846e+12</td>\n",
       "      <td>1.222644e+12</td>\n",
       "      <td>1.524917e+12</td>\n",
       "      <td>2.045926e+12</td>\n",
       "      <td>2.208296e+12</td>\n",
       "      <td>2.292473e+12</td>\n",
       "      <td>2.059242e+12</td>\n",
       "      <td>1.363481e+12</td>\n",
       "    </tr>\n",
       "    <tr>\n",
       "      <th>Canada</th>\n",
       "      <td>8</td>\n",
       "      <td>33472</td>\n",
       "      <td>32863</td>\n",
       "      <td>568080</td>\n",
       "      <td>100953</td>\n",
       "      <td>16.97</td>\n",
       "      <td>227</td>\n",
       "      <td>1.043100e+10</td>\n",
       "      <td>296</td>\n",
       "      <td>61.9454</td>\n",
       "      <td>1.315415e+12</td>\n",
       "      <td>1.464977e+12</td>\n",
       "      <td>1.549131e+12</td>\n",
       "      <td>1.371153e+12</td>\n",
       "      <td>1.613464e+12</td>\n",
       "      <td>1.788648e+12</td>\n",
       "      <td>1.828689e+12</td>\n",
       "      <td>1.847209e+12</td>\n",
       "      <td>1.803533e+12</td>\n",
       "      <td>1.556130e+12</td>\n",
       "    </tr>\n",
       "    <tr>\n",
       "      <th>Italy</th>\n",
       "      <td>9</td>\n",
       "      <td>27983</td>\n",
       "      <td>26940</td>\n",
       "      <td>352993</td>\n",
       "      <td>87828</td>\n",
       "      <td>12.61</td>\n",
       "      <td>166</td>\n",
       "      <td>6.530000e+09</td>\n",
       "      <td>109</td>\n",
       "      <td>33.6672</td>\n",
       "      <td>1.947920e+12</td>\n",
       "      <td>2.210293e+12</td>\n",
       "      <td>2.398857e+12</td>\n",
       "      <td>2.191242e+12</td>\n",
       "      <td>2.134018e+12</td>\n",
       "      <td>2.291991e+12</td>\n",
       "      <td>2.087077e+12</td>\n",
       "      <td>2.141315e+12</td>\n",
       "      <td>2.159134e+12</td>\n",
       "      <td>1.835899e+12</td>\n",
       "    </tr>\n",
       "    <tr>\n",
       "      <th>South Korea</th>\n",
       "      <td>10</td>\n",
       "      <td>27655</td>\n",
       "      <td>27445</td>\n",
       "      <td>328488</td>\n",
       "      <td>61531</td>\n",
       "      <td>11.88</td>\n",
       "      <td>155</td>\n",
       "      <td>1.100700e+10</td>\n",
       "      <td>221</td>\n",
       "      <td>2.27935</td>\n",
       "      <td>1.053217e+12</td>\n",
       "      <td>1.172614e+12</td>\n",
       "      <td>1.047339e+12</td>\n",
       "      <td>9.439419e+11</td>\n",
       "      <td>1.144067e+12</td>\n",
       "      <td>1.253223e+12</td>\n",
       "      <td>1.278428e+12</td>\n",
       "      <td>1.370795e+12</td>\n",
       "      <td>1.484318e+12</td>\n",
       "      <td>1.465773e+12</td>\n",
       "    </tr>\n",
       "    <tr>\n",
       "      <th>France</th>\n",
       "      <td>11</td>\n",
       "      <td>25232</td>\n",
       "      <td>24732</td>\n",
       "      <td>343860</td>\n",
       "      <td>65734</td>\n",
       "      <td>13.63</td>\n",
       "      <td>178</td>\n",
       "      <td>1.059700e+10</td>\n",
       "      <td>166</td>\n",
       "      <td>17.0203</td>\n",
       "      <td>2.318594e+12</td>\n",
       "      <td>2.657213e+12</td>\n",
       "      <td>2.918383e+12</td>\n",
       "      <td>2.690222e+12</td>\n",
       "      <td>2.642610e+12</td>\n",
       "      <td>2.861408e+12</td>\n",
       "      <td>2.683825e+12</td>\n",
       "      <td>2.811078e+12</td>\n",
       "      <td>2.852166e+12</td>\n",
       "      <td>2.438208e+12</td>\n",
       "    </tr>\n",
       "    <tr>\n",
       "      <th>Iran</th>\n",
       "      <td>12</td>\n",
       "      <td>22933</td>\n",
       "      <td>22734</td>\n",
       "      <td>307280</td>\n",
       "      <td>97038</td>\n",
       "      <td>13.40</td>\n",
       "      <td>141</td>\n",
       "      <td>9.172000e+09</td>\n",
       "      <td>119</td>\n",
       "      <td>5.70772</td>\n",
       "      <td>2.662989e+11</td>\n",
       "      <td>3.498816e+11</td>\n",
       "      <td>4.123362e+11</td>\n",
       "      <td>4.163970e+11</td>\n",
       "      <td>4.868076e+11</td>\n",
       "      <td>5.807649e+11</td>\n",
       "      <td>5.988685e+11</td>\n",
       "      <td>4.602931e+11</td>\n",
       "      <td>4.326870e+11</td>\n",
       "      <td>3.849515e+11</td>\n",
       "    </tr>\n",
       "    <tr>\n",
       "      <th>Spain</th>\n",
       "      <td>13</td>\n",
       "      <td>21955</td>\n",
       "      <td>21597</td>\n",
       "      <td>352497</td>\n",
       "      <td>64588</td>\n",
       "      <td>16.06</td>\n",
       "      <td>176</td>\n",
       "      <td>4.923000e+09</td>\n",
       "      <td>106</td>\n",
       "      <td>37.9686</td>\n",
       "      <td>1.259344e+12</td>\n",
       "      <td>1.472131e+12</td>\n",
       "      <td>1.625225e+12</td>\n",
       "      <td>1.485583e+12</td>\n",
       "      <td>1.420722e+12</td>\n",
       "      <td>1.478773e+12</td>\n",
       "      <td>1.324820e+12</td>\n",
       "      <td>1.354757e+12</td>\n",
       "      <td>1.369399e+12</td>\n",
       "      <td>1.195119e+12</td>\n",
       "    </tr>\n",
       "    <tr>\n",
       "      <th>Brazil</th>\n",
       "      <td>14</td>\n",
       "      <td>21524</td>\n",
       "      <td>21236</td>\n",
       "      <td>183915</td>\n",
       "      <td>45172</td>\n",
       "      <td>8.54</td>\n",
       "      <td>127</td>\n",
       "      <td>1.214900e+10</td>\n",
       "      <td>59</td>\n",
       "      <td>69.648</td>\n",
       "      <td>1.107640e+12</td>\n",
       "      <td>1.397084e+12</td>\n",
       "      <td>1.695825e+12</td>\n",
       "      <td>1.667020e+12</td>\n",
       "      <td>2.208872e+12</td>\n",
       "      <td>2.616201e+12</td>\n",
       "      <td>2.465189e+12</td>\n",
       "      <td>2.472807e+12</td>\n",
       "      <td>2.455994e+12</td>\n",
       "      <td>1.802214e+12</td>\n",
       "    </tr>\n",
       "    <tr>\n",
       "      <th>Australia</th>\n",
       "      <td>15</td>\n",
       "      <td>20614</td>\n",
       "      <td>20147</td>\n",
       "      <td>314307</td>\n",
       "      <td>51583</td>\n",
       "      <td>15.25</td>\n",
       "      <td>176</td>\n",
       "      <td>5.386000e+09</td>\n",
       "      <td>231</td>\n",
       "      <td>11.8108</td>\n",
       "      <td>7.460542e+11</td>\n",
       "      <td>8.530996e+11</td>\n",
       "      <td>1.053996e+12</td>\n",
       "      <td>9.278052e+11</td>\n",
       "      <td>1.146138e+12</td>\n",
       "      <td>1.396650e+12</td>\n",
       "      <td>1.546152e+12</td>\n",
       "      <td>1.576184e+12</td>\n",
       "      <td>1.467484e+12</td>\n",
       "      <td>1.351694e+12</td>\n",
       "    </tr>\n",
       "  </tbody>\n",
       "</table>\n",
       "</div>"
      ],
      "text/plain": [
       "                    Rank  Documents  Citable documents  Citations  \\\n",
       "Country                                                             \n",
       "China                  1     273437             272374    2336764   \n",
       "United States          2     175891             172431    2230544   \n",
       "India                  3      55082              53775     463165   \n",
       "Japan                  4      50523              50065     488062   \n",
       "United Kingdom         5      43389              42284     615670   \n",
       "Germany                6      38739              38013     433148   \n",
       "Russian Federation     7      36735              36560     115938   \n",
       "Canada                 8      33472              32863     568080   \n",
       "Italy                  9      27983              26940     352993   \n",
       "South Korea           10      27655              27445     328488   \n",
       "France                11      25232              24732     343860   \n",
       "Iran                  12      22933              22734     307280   \n",
       "Spain                 13      21955              21597     352497   \n",
       "Brazil                14      21524              21236     183915   \n",
       "Australia             15      20614              20147     314307   \n",
       "\n",
       "                    Self-citations  Citations per document  H index  \\\n",
       "Country                                                               \n",
       "China                      1615239                    8.55      245   \n",
       "United States               724472                   12.68      363   \n",
       "India                       162944                    8.41      181   \n",
       "Japan                       119930                    9.66      193   \n",
       "United Kingdom              111290                   14.19      226   \n",
       "Germany                      95145                   11.18      196   \n",
       "Russian Federation           54993                    3.16       90   \n",
       "Canada                      100953                   16.97      227   \n",
       "Italy                        87828                   12.61      166   \n",
       "South Korea                  61531                   11.88      155   \n",
       "France                       65734                   13.63      178   \n",
       "Iran                         97038                   13.40      141   \n",
       "Spain                        64588                   16.06      176   \n",
       "Brazil                       45172                    8.54      127   \n",
       "Australia                    51583                   15.25      176   \n",
       "\n",
       "                    Energy Supply Energy Supply per capita % Renewable  \\\n",
       "Country                                                                  \n",
       "China                1.271910e+11                       93     19.7549   \n",
       "United States        9.083800e+10                      286      11.571   \n",
       "India                3.319500e+10                       26     14.9691   \n",
       "Japan                1.898400e+10                      149     10.2328   \n",
       "United Kingdom       7.920000e+09                      124     10.6005   \n",
       "Germany              1.326100e+10                      165     17.9015   \n",
       "Russian Federation   3.070900e+10                      214     17.2887   \n",
       "Canada               1.043100e+10                      296     61.9454   \n",
       "Italy                6.530000e+09                      109     33.6672   \n",
       "South Korea          1.100700e+10                      221     2.27935   \n",
       "France               1.059700e+10                      166     17.0203   \n",
       "Iran                 9.172000e+09                      119     5.70772   \n",
       "Spain                4.923000e+09                      106     37.9686   \n",
       "Brazil               1.214900e+10                       59      69.648   \n",
       "Australia            5.386000e+09                      231     11.8108   \n",
       "\n",
       "                            2006          2007          2008          2009  \\\n",
       "Country                                                                      \n",
       "China               2.752132e+12  3.550343e+12  4.594307e+12  5.101703e+12   \n",
       "United States       1.381461e+13  1.445186e+13  1.471284e+13  1.444893e+13   \n",
       "India               9.402599e+11  1.216735e+12  1.198896e+12  1.341887e+12   \n",
       "Japan               4.530377e+12  4.515265e+12  5.037908e+12  5.231383e+12   \n",
       "United Kingdom      2.713750e+12  3.100882e+12  2.922667e+12  2.410910e+12   \n",
       "Germany             2.992197e+12  3.421229e+12  3.730028e+12  3.397791e+12   \n",
       "Russian Federation  9.899305e+11  1.299706e+12  1.660846e+12  1.222644e+12   \n",
       "Canada              1.315415e+12  1.464977e+12  1.549131e+12  1.371153e+12   \n",
       "Italy               1.947920e+12  2.210293e+12  2.398857e+12  2.191242e+12   \n",
       "South Korea         1.053217e+12  1.172614e+12  1.047339e+12  9.439419e+11   \n",
       "France              2.318594e+12  2.657213e+12  2.918383e+12  2.690222e+12   \n",
       "Iran                2.662989e+11  3.498816e+11  4.123362e+11  4.163970e+11   \n",
       "Spain               1.259344e+12  1.472131e+12  1.625225e+12  1.485583e+12   \n",
       "Brazil              1.107640e+12  1.397084e+12  1.695825e+12  1.667020e+12   \n",
       "Australia           7.460542e+11  8.530996e+11  1.053996e+12  9.278052e+11   \n",
       "\n",
       "                            2010          2011          2012          2013  \\\n",
       "Country                                                                      \n",
       "China               6.087164e+12  7.551500e+12  8.532230e+12  9.570406e+12   \n",
       "United States       1.499205e+13  1.554258e+13  1.619701e+13  1.678485e+13   \n",
       "India               1.675615e+12  1.823050e+12  1.827638e+12  1.856722e+12   \n",
       "Japan               5.700098e+12  6.157460e+12  6.203213e+12  5.155717e+12   \n",
       "United Kingdom      2.475244e+12  2.659310e+12  2.704888e+12  2.786023e+12   \n",
       "Germany             3.396354e+12  3.744409e+12  3.527345e+12  3.732743e+12   \n",
       "Russian Federation  1.524917e+12  2.045926e+12  2.208296e+12  2.292473e+12   \n",
       "Canada              1.613464e+12  1.788648e+12  1.828689e+12  1.847209e+12   \n",
       "Italy               2.134018e+12  2.291991e+12  2.087077e+12  2.141315e+12   \n",
       "South Korea         1.144067e+12  1.253223e+12  1.278428e+12  1.370795e+12   \n",
       "France              2.642610e+12  2.861408e+12  2.683825e+12  2.811078e+12   \n",
       "Iran                4.868076e+11  5.807649e+11  5.988685e+11  4.602931e+11   \n",
       "Spain               1.420722e+12  1.478773e+12  1.324820e+12  1.354757e+12   \n",
       "Brazil              2.208872e+12  2.616201e+12  2.465189e+12  2.472807e+12   \n",
       "Australia           1.146138e+12  1.396650e+12  1.546152e+12  1.576184e+12   \n",
       "\n",
       "                            2014          2015  \n",
       "Country                                         \n",
       "China               1.047568e+13  1.106155e+13  \n",
       "United States       1.752716e+13  1.822470e+13  \n",
       "India               2.039127e+12  2.103588e+12  \n",
       "Japan               4.850414e+12  4.389476e+12  \n",
       "United Kingdom      3.063803e+12  2.928591e+12  \n",
       "Germany             3.883920e+12  3.356236e+12  \n",
       "Russian Federation  2.059242e+12  1.363481e+12  \n",
       "Canada              1.803533e+12  1.556130e+12  \n",
       "Italy               2.159134e+12  1.835899e+12  \n",
       "South Korea         1.484318e+12  1.465773e+12  \n",
       "France              2.852166e+12  2.438208e+12  \n",
       "Iran                4.326870e+11  3.849515e+11  \n",
       "Spain               1.369399e+12  1.195119e+12  \n",
       "Brazil              2.455994e+12  1.802214e+12  \n",
       "Australia           1.467484e+12  1.351694e+12  "
      ]
     },
     "execution_count": 5,
     "metadata": {},
     "output_type": "execute_result"
    }
   ],
   "source": [
    "df = answer_one()\n",
    "df.head(15)"
   ]
  },
  {
   "cell_type": "code",
   "execution_count": 6,
   "metadata": {},
   "outputs": [],
   "source": [
    "assert type(answer_one()) == pd.DataFrame, \"Q1: You should return a DataFrame!\"\n",
    "\n",
    "assert answer_one().shape == (15,20), \"Q1: Your DataFrame should have 20 columns and 15 entries!\""
   ]
  },
  {
   "cell_type": "code",
   "execution_count": 7,
   "metadata": {},
   "outputs": [],
   "source": [
    "# Cell for autograder."
   ]
  },
  {
   "cell_type": "markdown",
   "metadata": {},
   "source": [
    "### Question 2\n",
    "The previous question joined three datasets then reduced this to just the top 15 entries. When you joined the datasets, but before you reduced this to the top 15 items, how many entries did you lose?\n",
    "\n",
    "*This function should return a single number.*"
   ]
  },
  {
   "cell_type": "code",
   "execution_count": 8,
   "metadata": {},
   "outputs": [
    {
     "data": {
      "text/html": [
       "<svg width=\"800\" height=\"300\">\n",
       "  <circle cx=\"150\" cy=\"180\" r=\"80\" fill-opacity=\"0.2\" stroke=\"black\" stroke-width=\"2\" fill=\"blue\" />\n",
       "  <circle cx=\"200\" cy=\"100\" r=\"80\" fill-opacity=\"0.2\" stroke=\"black\" stroke-width=\"2\" fill=\"red\" />\n",
       "  <circle cx=\"100\" cy=\"100\" r=\"80\" fill-opacity=\"0.2\" stroke=\"black\" stroke-width=\"2\" fill=\"green\" />\n",
       "  <line x1=\"150\" y1=\"125\" x2=\"300\" y2=\"150\" stroke=\"black\" stroke-width=\"2\" fill=\"black\" stroke-dasharray=\"5,3\"/>\n",
       "  <text x=\"300\" y=\"165\" font-family=\"Verdana\" font-size=\"35\">Everything but this!</text>\n",
       "</svg>\n"
      ],
      "text/plain": [
       "<IPython.core.display.HTML object>"
      ]
     },
     "metadata": {},
     "output_type": "display_data"
    }
   ],
   "source": [
    "%%HTML\n",
    "<svg width=\"800\" height=\"300\">\n",
    "  <circle cx=\"150\" cy=\"180\" r=\"80\" fill-opacity=\"0.2\" stroke=\"black\" stroke-width=\"2\" fill=\"blue\" />\n",
    "  <circle cx=\"200\" cy=\"100\" r=\"80\" fill-opacity=\"0.2\" stroke=\"black\" stroke-width=\"2\" fill=\"red\" />\n",
    "  <circle cx=\"100\" cy=\"100\" r=\"80\" fill-opacity=\"0.2\" stroke=\"black\" stroke-width=\"2\" fill=\"green\" />\n",
    "  <line x1=\"150\" y1=\"125\" x2=\"300\" y2=\"150\" stroke=\"black\" stroke-width=\"2\" fill=\"black\" stroke-dasharray=\"5,3\"/>\n",
    "  <text x=\"300\" y=\"165\" font-family=\"Verdana\" font-size=\"35\">Everything but this!</text>\n",
    "</svg>"
   ]
  },
  {
   "cell_type": "code",
   "execution_count": 9,
   "metadata": {},
   "outputs": [],
   "source": [
    "def answer_two():\n",
    "    # Read the excel Energy file\n",
    "    Energy = pd.read_excel(io='assets/Energy Indicators.xls', sheet_name='Energy', header=16, skipfooter=38)\n",
    "    \n",
    "    #Dropped the useless columns and rows\n",
    "    Energy.drop(['Unnamed: 0', 'Unnamed: 1'], axis=1, inplace=True)\n",
    "    Energy.drop(0, axis=0, inplace=True)\n",
    "    \n",
    "    # Renamed the columns\n",
    "    Energy.rename(columns={'Unnamed: 2': 'Country', 'Renewable Electricity Production': '% Renewable'}, inplace=True)\n",
    "    \n",
    "    # Replaced the ... with NaN and converted the Energy Supply to Gigajoules\n",
    "    Energy.loc[Energy['Energy Supply'] == '...', ['Energy Supply', 'Energy Supply per capita']] = np.nan\n",
    "    Energy['Energy Supply'] = Energy['Energy Supply'].apply(lambda x: x*1000000)\n",
    "    \n",
    "    # Took out the numbers from the Country column\n",
    "    pattern = '([A-Za-z, ]*)'\n",
    "    Energy['Country'] = Energy['Country'].str.extract(pattern)\n",
    "    Energy['Country'] = Energy['Country'].str.strip()\n",
    "    \n",
    "    # Change the names of the countries\n",
    "    Energy['Country'] = Energy['Country'].replace(['Republic of Korea', 'United States of America', \n",
    "                                                   'United Kingdom of Great Britain and Northern Ireland', \n",
    "                                                   'China, Hong Kong Special Administrative Region'], \n",
    "                                                  ['South Korea', 'United States', 'United Kingdom', 'Hong Kong'])\n",
    "    \n",
    "    \n",
    "    # Read the csv World Bank file\n",
    "    GDP = pd.read_csv('assets/world_bank.csv', header=2)\n",
    "    \n",
    "    # Renamed countries\n",
    "    GDP['Country Name'] = GDP['Country Name'].replace(['Korea, Rep.', 'Iran, Islamic Rep.', 'Hong Kong SAR, China'],\n",
    "                                                     ['South Korea', 'Iran', 'Hong Kong'])\n",
    "    \n",
    "    # Renamed the column Contry Name\n",
    "    GDP.rename(columns={'Country Name': 'Country'}, inplace=True)\n",
    "    \n",
    "    \n",
    "    # Read the excel Scimago file\n",
    "    ScimEn = pd.read_excel(io='assets/scimagojr-3.xlsx')\n",
    "    \n",
    "    # Dropped useless columns\n",
    "    ScimEn.drop('Region', axis=1, inplace=True)\n",
    "    \n",
    "    \n",
    "    total = (len(Energy) + len(GDP) + len(ScimEn) - len(Energy.merge(GDP, on='Country'))\n",
    "             - len(GDP.merge(ScimEn, on='Country')) - len(Energy.merge(ScimEn, on='Country')))\n",
    "\n",
    "    return total"
   ]
  },
  {
   "cell_type": "code",
   "execution_count": 10,
   "metadata": {},
   "outputs": [
    {
     "data": {
      "text/plain": [
       "152"
      ]
     },
     "execution_count": 10,
     "metadata": {},
     "output_type": "execute_result"
    }
   ],
   "source": [
    "df = answer_two()\n",
    "df"
   ]
  },
  {
   "cell_type": "code",
   "execution_count": 11,
   "metadata": {},
   "outputs": [],
   "source": [
    "assert type(answer_two()) == int, \"Q2: You should return an int number!\""
   ]
  },
  {
   "cell_type": "markdown",
   "metadata": {},
   "source": [
    "### Question 3\n",
    "What are the top 15 countries for average GDP over the last 10 years?\n",
    "\n",
    "*This function should return a Series named `avgGDP` with 15 countries and their average GDP sorted in descending order.*"
   ]
  },
  {
   "cell_type": "code",
   "execution_count": 12,
   "metadata": {},
   "outputs": [],
   "source": [
    "def answer_three():\n",
    "    df = answer_one()\n",
    "    \n",
    "    def mean_GDP(row):\n",
    "        data = row[['2006', '2007', '2008', '2009', '2010', '2011', '2012', '2013', '2014', '2015']]\n",
    "        row['mean'] = np.mean(data)\n",
    "        return row\n",
    "    \n",
    "    avgGDP = df.apply(mean_GDP, axis='columns').sort_values(by='mean', ascending=False)['mean']\n",
    "\n",
    "    return avgGDP"
   ]
  },
  {
   "cell_type": "code",
   "execution_count": 13,
   "metadata": {},
   "outputs": [
    {
     "data": {
      "text/plain": [
       "Country\n",
       "United States         1.566966e+13\n",
       "China                 6.927702e+12\n",
       "Japan                 5.177131e+12\n",
       "Germany               3.518225e+12\n",
       "United Kingdom        2.776607e+12\n",
       "France                2.687371e+12\n",
       "Italy                 2.139775e+12\n",
       "Brazil                1.988885e+12\n",
       "Russian Federation    1.666746e+12\n",
       "Canada                1.613835e+12\n",
       "India                 1.602352e+12\n",
       "Spain                 1.398587e+12\n",
       "South Korea           1.221372e+12\n",
       "Australia             1.206526e+12\n",
       "Iran                  4.389286e+11\n",
       "Name: mean, dtype: float64"
      ]
     },
     "execution_count": 13,
     "metadata": {},
     "output_type": "execute_result"
    }
   ],
   "source": [
    "df = answer_three()\n",
    "df"
   ]
  },
  {
   "cell_type": "code",
   "execution_count": 14,
   "metadata": {},
   "outputs": [],
   "source": [
    "assert type(answer_three()) == pd.Series, \"Q3: You should return a Series!\"\n"
   ]
  },
  {
   "cell_type": "markdown",
   "metadata": {},
   "source": [
    "### Question 4\n",
    "By how much had the GDP changed over the 10 year span for the country with the 6th largest average GDP?\n",
    "\n",
    "*This function should return a single number.*"
   ]
  },
  {
   "cell_type": "code",
   "execution_count": 15,
   "metadata": {},
   "outputs": [],
   "source": [
    "def answer_four():\n",
    "    df = answer_one()\n",
    "    \n",
    "    def mean_GDP(row):\n",
    "        data = row[['2006', '2007', '2008', '2009', '2010', '2011', '2012', '2013', '2014', '2015']]\n",
    "        row['mean'] = np.mean(data)\n",
    "        return row\n",
    "    \n",
    "    sixth_country = df.apply(mean_GDP, axis='columns').sort_values(by='mean', ascending=False).iloc[5]\n",
    "    difference = sixth_country['2015'] - sixth_country['2006']\n",
    "    \n",
    "    return difference"
   ]
  },
  {
   "cell_type": "code",
   "execution_count": 16,
   "metadata": {},
   "outputs": [
    {
     "data": {
      "text/plain": [
       "119614244263.37988"
      ]
     },
     "execution_count": 16,
     "metadata": {},
     "output_type": "execute_result"
    }
   ],
   "source": [
    "df = answer_four()\n",
    "df"
   ]
  },
  {
   "cell_type": "markdown",
   "metadata": {},
   "source": [
    "### Question 5\n",
    "What is the mean energy supply per capita?\n",
    "\n",
    "*This function should return a single number.*"
   ]
  },
  {
   "cell_type": "code",
   "execution_count": 21,
   "metadata": {},
   "outputs": [],
   "source": [
    "def answer_five():\n",
    "    df = answer_one()\n",
    "    avgEnergySupplyPerCapita = df['Energy Supply per capita'].mean()\n",
    "    return avgEnergySupplyPerCapita"
   ]
  },
  {
   "cell_type": "code",
   "execution_count": 23,
   "metadata": {},
   "outputs": [
    {
     "data": {
      "text/plain": [
       "157.6"
      ]
     },
     "execution_count": 23,
     "metadata": {},
     "output_type": "execute_result"
    }
   ],
   "source": [
    "df = answer_five()\n",
    "df"
   ]
  },
  {
   "cell_type": "markdown",
   "metadata": {},
   "source": [
    "### Question 6\n",
    "What country has the maximum % Renewable and what is the percentage?\n",
    "\n",
    "*This function should return a tuple with the name of the country and the percentage.*"
   ]
  },
  {
   "cell_type": "code",
   "execution_count": 82,
   "metadata": {},
   "outputs": [],
   "source": [
    "def answer_six():\n",
    "    df = answer_one()\n",
    "    df = df.reset_index()\n",
    "    highest_renewable = (df[df['% Renewable'] == df['% Renewable'].max()]['Country'].item(), df['% Renewable'].max())\n",
    "    return highest_renewable"
   ]
  },
  {
   "cell_type": "code",
   "execution_count": 83,
   "metadata": {},
   "outputs": [
    {
     "data": {
      "text/plain": [
       "('Brazil', 69.64803)"
      ]
     },
     "execution_count": 83,
     "metadata": {},
     "output_type": "execute_result"
    }
   ],
   "source": [
    "df = answer_six()\n",
    "df"
   ]
  },
  {
   "cell_type": "code",
   "execution_count": 84,
   "metadata": {},
   "outputs": [],
   "source": [
    "assert type(answer_six()) == tuple, \"Q6: You should return a tuple!\"\n",
    "\n",
    "assert type(answer_six()[0]) == str, \"Q6: The first element in your result should be the name of the country!\"\n"
   ]
  },
  {
   "cell_type": "markdown",
   "metadata": {},
   "source": [
    "### Question 7\n",
    "Create a new column that is the ratio of Self-Citations to Total Citations. \n",
    "What is the maximum value for this new column, and what country has the highest ratio?\n",
    "\n",
    "*This function should return a tuple with the name of the country and the ratio.*"
   ]
  },
  {
   "cell_type": "code",
   "execution_count": 92,
   "metadata": {},
   "outputs": [],
   "source": [
    "def answer_seven():\n",
    "    df = answer_one()\n",
    "    df['Citations Ratio'] = df['Self-citations']/df['Citations']\n",
    "    df = df.reset_index()\n",
    "    highest_citations_ratio = (df[df['Citations Ratio'] == df['Citations Ratio'].max()]['Country'].item(), \n",
    "                               df['Citations Ratio'].max())\n",
    "    return highest_citations_ratio"
   ]
  },
  {
   "cell_type": "code",
   "execution_count": 93,
   "metadata": {},
   "outputs": [
    {
     "data": {
      "text/plain": [
       "('China', 0.6912289816173135)"
      ]
     },
     "execution_count": 93,
     "metadata": {},
     "output_type": "execute_result"
    }
   ],
   "source": [
    "df = answer_seven()\n",
    "df"
   ]
  },
  {
   "cell_type": "code",
   "execution_count": 94,
   "metadata": {},
   "outputs": [],
   "source": [
    "assert type(answer_seven()) == tuple, \"Q7: You should return a tuple!\"\n",
    "\n",
    "assert type(answer_seven()[0]) == str, \"Q7: The first element in your result should be the name of the country!\"\n"
   ]
  },
  {
   "cell_type": "markdown",
   "metadata": {},
   "source": [
    "### Question 8\n",
    "\n",
    "Create a column that estimates the population using Energy Supply and Energy Supply per capita. \n",
    "What is the third most populous country according to this estimate?\n",
    "\n",
    "*This function should return the name of the country*"
   ]
  },
  {
   "cell_type": "code",
   "execution_count": null,
   "metadata": {},
   "outputs": [],
   "source": [
    "def answer_eight():\n",
    "    # YOUR CODE HERE\n",
    "    raise NotImplementedError()"
   ]
  },
  {
   "cell_type": "code",
   "execution_count": null,
   "metadata": {},
   "outputs": [],
   "source": [
    "assert type(answer_eight()) == str, \"Q8: You should return the name of the country!\"\n"
   ]
  },
  {
   "cell_type": "markdown",
   "metadata": {},
   "source": [
    "### Question 9\n",
    "Create a column that estimates the number of citable documents per person. \n",
    "What is the correlation between the number of citable documents per capita and the energy supply per capita? Use the `.corr()` method, (Pearson's correlation).\n",
    "\n",
    "*This function should return a single number.*\n",
    "\n",
    "*(Optional: Use the built-in function `plot9()` to visualize the relationship between Energy Supply per Capita vs. Citable docs per Capita)*"
   ]
  },
  {
   "cell_type": "code",
   "execution_count": null,
   "metadata": {},
   "outputs": [],
   "source": [
    "def answer_nine():\n",
    "    # YOUR CODE HERE\n",
    "    raise NotImplementedError()"
   ]
  },
  {
   "cell_type": "code",
   "execution_count": null,
   "metadata": {},
   "outputs": [],
   "source": [
    "def plot9():\n",
    "    import matplotlib as plt\n",
    "    %matplotlib inline\n",
    "    \n",
    "    Top15 = answer_one()\n",
    "    Top15['PopEst'] = Top15['Energy Supply'] / Top15['Energy Supply per Capita']\n",
    "    Top15['Citable docs per Capita'] = Top15['Citable documents'] / Top15['PopEst']\n",
    "    Top15.plot(x='Citable docs per Capita', y='Energy Supply per Capita', kind='scatter', xlim=[0, 0.0006])"
   ]
  },
  {
   "cell_type": "code",
   "execution_count": null,
   "metadata": {},
   "outputs": [],
   "source": [
    "assert answer_nine() >= -1. and answer_nine() <= 1., \"Q9: A valid correlation should between -1 to 1!\"\n"
   ]
  },
  {
   "cell_type": "markdown",
   "metadata": {},
   "source": [
    "### Question 10\n",
    "Create a new column with a 1 if the country's % Renewable value is at or above the median for all countries in the top 15, and a 0 if the country's % Renewable value is below the median.\n",
    "\n",
    "*This function should return a series named `HighRenew` whose index is the country name sorted in ascending order of rank.*"
   ]
  },
  {
   "cell_type": "code",
   "execution_count": null,
   "metadata": {},
   "outputs": [],
   "source": [
    "def answer_ten():\n",
    "    # YOUR CODE HERE\n",
    "    raise NotImplementedError()"
   ]
  },
  {
   "cell_type": "code",
   "execution_count": null,
   "metadata": {},
   "outputs": [],
   "source": [
    "assert type(answer_ten()) == pd.Series, \"Q10: You should return a Series!\"\n"
   ]
  },
  {
   "cell_type": "markdown",
   "metadata": {},
   "source": [
    "### Question 11\n",
    "Use the following dictionary to group the Countries by Continent, then create a DataFrame that displays the sample size (the number of countries in each continent bin), and the sum, mean, and std deviation for the estimated population of each country.\n",
    "\n",
    "```python\n",
    "ContinentDict  = {'China':'Asia', \n",
    "                  'United States':'North America', \n",
    "                  'Japan':'Asia', \n",
    "                  'United Kingdom':'Europe', \n",
    "                  'Russian Federation':'Europe', \n",
    "                  'Canada':'North America', \n",
    "                  'Germany':'Europe', \n",
    "                  'India':'Asia',\n",
    "                  'France':'Europe', \n",
    "                  'South Korea':'Asia', \n",
    "                  'Italy':'Europe', \n",
    "                  'Spain':'Europe', \n",
    "                  'Iran':'Asia',\n",
    "                  'Australia':'Australia', \n",
    "                  'Brazil':'South America'}\n",
    "```\n",
    "\n",
    "*This function should return a DataFrame with index named Continent `['Asia', 'Australia', 'Europe', 'North America', 'South America']` and columns `['size', 'sum', 'mean', 'std']`*"
   ]
  },
  {
   "cell_type": "code",
   "execution_count": null,
   "metadata": {},
   "outputs": [],
   "source": [
    "def answer_eleven():\n",
    "    # YOUR CODE HERE\n",
    "    raise NotImplementedError()"
   ]
  },
  {
   "cell_type": "code",
   "execution_count": null,
   "metadata": {},
   "outputs": [],
   "source": [
    "assert type(answer_eleven()) == pd.DataFrame, \"Q11: You should return a DataFrame!\"\n",
    "\n",
    "assert answer_eleven().shape[0] == 5, \"Q11: Wrong row numbers!\"\n",
    "\n",
    "assert answer_eleven().shape[1] == 4, \"Q11: Wrong column numbers!\"\n"
   ]
  },
  {
   "cell_type": "markdown",
   "metadata": {},
   "source": [
    "### Question 12\n",
    "Cut % Renewable into 5 bins. Group Top15 by the Continent, as well as these new % Renewable bins. How many countries are in each of these groups?\n",
    "\n",
    "*This function should return a Series with a MultiIndex of `Continent`, then the bins for `% Renewable`. Do not include groups with no countries.*"
   ]
  },
  {
   "cell_type": "code",
   "execution_count": null,
   "metadata": {},
   "outputs": [],
   "source": [
    "def answer_twelve():\n",
    "    # YOUR CODE HERE\n",
    "    raise NotImplementedError()\n"
   ]
  },
  {
   "cell_type": "code",
   "execution_count": null,
   "metadata": {},
   "outputs": [],
   "source": [
    "assert type(answer_twelve()) == pd.Series, \"Q12: You should return a Series!\"\n",
    "\n",
    "assert len(answer_twelve()) == 9, \"Q12: Wrong result numbers!\"\n"
   ]
  },
  {
   "cell_type": "markdown",
   "metadata": {},
   "source": [
    "### Question 13\n",
    "Convert the Population Estimate series to a string with thousands separator (using commas). Use all significant digits (do not round the results).\n",
    "\n",
    "e.g. 12345678.90 -> 12,345,678.90\n",
    "\n",
    "*This function should return a series `PopEst` whose index is the country name and whose values are the population estimate string*"
   ]
  },
  {
   "cell_type": "code",
   "execution_count": null,
   "metadata": {},
   "outputs": [],
   "source": [
    "def answer_thirteen():\n",
    "    # YOUR CODE HERE\n",
    "    raise NotImplementedError()"
   ]
  },
  {
   "cell_type": "code",
   "execution_count": null,
   "metadata": {},
   "outputs": [],
   "source": [
    "assert type(answer_thirteen()) == pd.Series, \"Q13: You should return a Series!\"\n",
    "\n",
    "assert len(answer_thirteen()) == 15, \"Q13: Wrong result numbers!\"\n"
   ]
  },
  {
   "cell_type": "markdown",
   "metadata": {},
   "source": [
    "### Optional\n",
    "\n",
    "Use the built in function `plot_optional()` to see an example visualization."
   ]
  },
  {
   "cell_type": "code",
   "execution_count": null,
   "metadata": {},
   "outputs": [],
   "source": [
    "def plot_optional():\n",
    "    import matplotlib as plt\n",
    "    %matplotlib inline\n",
    "    Top15 = answer_one()\n",
    "    ax = Top15.plot(x='Rank', y='% Renewable', kind='scatter', \n",
    "                    c=['#e41a1c','#377eb8','#e41a1c','#4daf4a','#4daf4a','#377eb8','#4daf4a','#e41a1c',\n",
    "                       '#4daf4a','#e41a1c','#4daf4a','#4daf4a','#e41a1c','#dede00','#ff7f00'], \n",
    "                    xticks=range(1,16), s=6*Top15['2014']/10**10, alpha=.75, figsize=[16,6]);\n",
    "\n",
    "    for i, txt in enumerate(Top15.index):\n",
    "        ax.annotate(txt, [Top15['Rank'][i], Top15['% Renewable'][i]], ha='center')\n",
    "\n",
    "    print(\"This is an example of a visualization that can be created to help understand the data. \\\n",
    "This is a bubble chart showing % Renewable vs. Rank. The size of the bubble corresponds to the countries' \\\n",
    "2014 GDP, and the color corresponds to the continent.\")"
   ]
  }
 ],
 "metadata": {
  "kernelspec": {
   "display_name": "Python 3",
   "language": "python",
   "name": "python3"
  },
  "language_info": {
   "codemirror_mode": {
    "name": "ipython",
    "version": 3
   },
   "file_extension": ".py",
   "mimetype": "text/x-python",
   "name": "python",
   "nbconvert_exporter": "python",
   "pygments_lexer": "ipython3",
   "version": "3.8.5"
  }
 },
 "nbformat": 4,
 "nbformat_minor": 4
}
